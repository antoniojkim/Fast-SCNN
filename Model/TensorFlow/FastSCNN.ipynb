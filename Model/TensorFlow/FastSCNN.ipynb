{
 "cells": [
  {
   "cell_type": "code",
   "execution_count": null,
   "metadata": {},
   "outputs": [
    {
     "evalue": "Error: Jupyter cannot be started. Error attempting to locate jupyter: Error: Module 'notebook' not installed.",
     "output_type": "error"
    }
   ],
   "source": [
    "import tensorflow as tf\n",
    "\n",
    "import numpy as np"
   ]
  },
  {
   "cell_type": "code",
   "execution_count": null,
   "metadata": {},
   "outputs": [],
   "source": [
    "def Sequential(*args):\n",
    "    # tf.keras.Sequential\n",
    "    pass\n",
    "\n",
    "def Conv2d(in_channels, out_channels, kernel_size, stride, padding, bias):\n",
    "    pass\n",
    "\n",
    "def BatchNorm2d(out_channels):\n",
    "    pass\n",
    "\n",
    "def ReLU(inplace=True):\n",
    "    return tf.nn.relu"
   ]
  },
  {
   "cell_type": "code",
   "execution_count": null,
   "metadata": {},
   "outputs": [],
   "source": [
    "def Conv2dBatch(in_channels, out_channels, kernel_size=3, stride=1, padding=0, **kwargs):\n",
    "    return Sequential(\n",
    "        Conv2d(in_channels  = in_channels,\n",
    "               out_channels = out_channels,\n",
    "               kernel_size  = kernel_size,\n",
    "               stride       = stride,\n",
    "               padding      = padding,\n",
    "               bias         = False),\n",
    "        BatchNorm2d(out_channels),\n",
    "        ReLU(inplace=True)\n",
    "    )"
   ]
  }
 ],
 "metadata": {
  "kernelspec": {
   "display_name": "Python (WATO)",
   "language": "python",
   "name": "wato"
  },
  "language_info": {
   "codemirror_mode": {
    "name": "ipython",
    "version": 3
   },
   "file_extension": ".py",
   "mimetype": "text/x-python",
   "name": "python",
   "nbconvert_exporter": "python",
   "pygments_lexer": "ipython3",
   "version": "3.7.6"
  }
 },
 "nbformat": 4,
 "nbformat_minor": 4
}