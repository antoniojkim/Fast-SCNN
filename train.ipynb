{
 "cells": [
  {
   "cell_type": "code",
   "execution_count": 1,
   "metadata": {},
   "outputs": [],
   "source": [
    "import os\n",
    "import time\n",
    " \n",
    "import matplotlib.pyplot as plt\n",
    "import torch\n",
    "import torchx\n",
    "from PIL import Image\n",
    "from tqdm.notebook import tqdm\n",
    "\n",
    "from FastSCNN import AudiDataset, FastSCNN"
   ]
  },
  {
   "cell_type": "markdown",
   "metadata": {},
   "source": [
    "# Parameters"
   ]
  },
  {
   "cell_type": "code",
   "execution_count": 2,
   "metadata": {},
   "outputs": [],
   "source": [
    "params = torchx.params.Parameters(\"params.yml\")"
   ]
  },
  {
   "cell_type": "code",
   "execution_count": 3,
   "metadata": {},
   "outputs": [],
   "source": [
    "if params.crop_height * 2 != params.crop_width:\n",
    "    raise AssertionError(\"Crop width must be exactly twice the size of crop height\")"
   ]
  },
  {
   "cell_type": "code",
   "execution_count": 4,
   "metadata": {},
   "outputs": [],
   "source": [
    "log = params.get_logger('FastSCNN')"
   ]
  },
  {
   "cell_type": "markdown",
   "metadata": {},
   "source": [
    "# Dataset"
   ]
  },
  {
   "cell_type": "code",
   "execution_count": 5,
   "metadata": {},
   "outputs": [],
   "source": [
    "# Check to see if all required paths are present\n",
    "if not os.path.join(\"data\", \"class_list.json\"):\n",
    "    raise AssertionError(os.path.join(\"data\", \"class_list.json\") + \" does not exist\")\n",
    "\n",
    "for directory in (\"train\", \"train_labels\", \"test\", \"test_labels\", \"val\", \"val_labels\"):\n",
    "    if not os.path.isdir(os.path.join(\"data\", directory)):\n",
    "        raise AssertionError(os.path.join(\"data\", directory) + \" does not exist\")"
   ]
  },
  {
   "cell_type": "code",
   "execution_count": 6,
   "metadata": {},
   "outputs": [],
   "source": [
    "num_classes = 2 if params.single_class else len(Dataset.classes)+1"
   ]
  },
  {
   "cell_type": "markdown",
   "metadata": {},
   "source": [
    "## Training Dataset"
   ]
  },
  {
   "cell_type": "code",
   "execution_count": 48,
   "metadata": {},
   "outputs": [],
   "source": [
    "training_dataloader = torch.utils.data.DataLoader(\n",
    "    AudiDataset(\n",
    "        params.crop_height,\n",
    "        params.crop_width,\n",
    "        params.resize_scale,\n",
    "        mode=\"train\",\n",
    "        single_class = params.single_class\n",
    "    ),\n",
    "    batch_size  = params.batch_size,\n",
    "    num_workers = params.num_workers,\n",
    "    shuffle     = True,\n",
    "    drop_last   = True\n",
    ")"
   ]
  },
  {
   "cell_type": "markdown",
   "metadata": {},
   "source": [
    "## Validation Dataset"
   ]
  },
  {
   "cell_type": "code",
   "execution_count": 8,
   "metadata": {},
   "outputs": [],
   "source": [
    "val_dataset = AudiDataset(\n",
    "    params.crop_height,\n",
    "    params.crop_width,\n",
    "    params.resize_scale,\n",
    "    mode=\"val\",\n",
    "    single_class = params.single_class\n",
    ")\n",
    "val_dataloader = torch.utils.data.DataLoader(\n",
    "    val_dataset,\n",
    "    batch_size  = 1,\n",
    "    num_workers = params.num_workers,\n",
    "    shuffle     = True\n",
    ")\n",
    "\n",
    "num_validation = min(params.num_validation, len(val_dataloader))"
   ]
  },
  {
   "cell_type": "markdown",
   "metadata": {},
   "source": [
    "# Train"
   ]
  },
  {
   "cell_type": "code",
   "execution_count": 9,
   "metadata": {},
   "outputs": [],
   "source": [
    "device = torch.device(\"cuda:\"+params.cuda if params.use_gpu else \"cpu\")\n",
    "\n",
    "def to_device(tensor):\n",
    "    if params.use_gpu:\n",
    "#         torch.nn.DataParallel(model).cuda()\n",
    "#         tensor.cuda()\n",
    "        return tensor.to(device)\n",
    "    else:\n",
    "        return tensor"
   ]
  },
  {
   "cell_type": "code",
   "execution_count": 10,
   "metadata": {},
   "outputs": [],
   "source": [
    "model = FastSCNN(image_height   = int(params.crop_height * params.resize_scale),\n",
    "                 image_width    = int(params.crop_width * params.resize_scale),\n",
    "                 image_channels = 3,\n",
    "                 num_classes    = num_classes)\n",
    "model = to_device(model)"
   ]
  },
  {
   "cell_type": "code",
   "execution_count": 11,
   "metadata": {},
   "outputs": [
    {
     "data": {
      "text/plain": [
       "1141462"
      ]
     },
     "execution_count": 11,
     "metadata": {},
     "output_type": "execute_result"
    }
   ],
   "source": [
    "model.num_params()"
   ]
  },
  {
   "cell_type": "code",
   "execution_count": 15,
   "metadata": {},
   "outputs": [],
   "source": [
    "with torch.no_grad():\n",
    "    model.eval()\n",
    "    \n",
    "    for image, label in training_dataloader:\n",
    "        image = to_device(image)\n",
    "        output = model.forward(image)\n",
    "        break\n",
    "    \n",
    "    model.train()"
   ]
  },
  {
   "cell_type": "code",
   "execution_count": 12,
   "metadata": {},
   "outputs": [],
   "source": [
    "# load pretrained model if exists\n",
    "if params.pretrained_model_path is not None:\n",
    "    print('loading model from %s ...' % pretrained_model_path)\n",
    "    model.load(params.pretrained_model_path)"
   ]
  },
  {
   "cell_type": "markdown",
   "metadata": {},
   "source": [
    "## Validation"
   ]
  },
  {
   "cell_type": "code",
   "execution_count": 13,
   "metadata": {},
   "outputs": [],
   "source": [
    "data, label = next(iter(val_dataloader))\n",
    "data = to_device(data)\n",
    "output = model.forward(data)"
   ]
  },
  {
   "cell_type": "code",
   "execution_count": 14,
   "metadata": {},
   "outputs": [],
   "source": [
    "flattened_output = output.argmax(dim=1).detach().cpu().numpy()\n",
    "flattened_label = label.numpy()"
   ]
  },
  {
   "cell_type": "code",
   "execution_count": 15,
   "metadata": {},
   "outputs": [],
   "source": [
    "def compute_hist(a, b, n):\n",
    "\tk = (a >= 0) & (a < n)\n",
    "\treturn np.bincount(n * a[k].astype(int) + b[k], minlength=n ** 2).reshape(n, n)\n",
    "\n",
    "iou_per_class = lambda hist: (np.diag(hist) + 1e-5) / (hist.sum(1) + hist.sum(0) - np.diag(hist) + 1e-5)\n",
    "\n",
    "def validation(model, dataloader):\n",
    "\n",
    "    with torch.no_grad(), tqdm(total=num_validation, position=0, leave=False) as val_progress:\n",
    "        model.eval()\n",
    "        \n",
    "        precisions = []\n",
    "        hist = np.zeros((num_classes, num_classes))\n",
    "\n",
    "        for i, (data, label) in enumerate(dataloader):\n",
    "            \n",
    "            data = to_device(data)\n",
    "                \n",
    "            output = model(data).argmax(dim=1).detach().cpu().numpy()\n",
    "            label = label.numpy()\n",
    "\n",
    "            precisions.append(np.sum(output == label) / np.prod(label.shape))\n",
    "            hist += compute_hist(output.flatten(), label.flatten(), num_classes)\n",
    "            \n",
    "            val_progress.set_postfix(precision='%.6f' % np.mean(precisions))\n",
    "            val_progress.update()\n",
    "            \n",
    "            if i >= num_validation:\n",
    "                break\n",
    "            \n",
    "            if len(precisions) > num_validation:\n",
    "                raise AssertionError(\"Validating more than wanted\")\n",
    "        \n",
    "        precision = np.mean(precisions)\n",
    "        iou = iou_per_class(hist)[:-1]\n",
    "        miou = np.mean(iou)\n",
    "    \n",
    "    return precision, miou, iou"
   ]
  },
  {
   "cell_type": "markdown",
   "metadata": {},
   "source": [
    "## Training Loop"
   ]
  },
  {
   "cell_type": "code",
   "execution_count": 16,
   "metadata": {},
   "outputs": [],
   "source": [
    "optimizer = torch.optim.SGD(model.parameters(), lr=0.005, momentum=0.9, weight_decay=1e-4)\n",
    "criterion = torch.nn.CrossEntropyLoss()"
   ]
  },
  {
   "cell_type": "code",
   "execution_count": 17,
   "metadata": {},
   "outputs": [],
   "source": [
    "with open(params.log_file, \"w\") as file:\n",
    "    pass"
   ]
  },
  {
   "cell_type": "code",
   "execution_count": null,
   "metadata": {},
   "outputs": [],
   "source": [
    "model_suffix = \"\"\n",
    "\n",
    "best_mean_loss = np.inf\n",
    "best_mIoU, best_precision, iou = validation(model, val_dataloader)\n",
    "log.info(f\"Initial: mIoU {best_mIoU}, precision {best_precision}\")\n",
    "\n",
    "with PolyLearningRateDecay(\n",
    "    optimizer,\n",
    "    power=4,\n",
    "    max_decay_steps=50,\n",
    "    final_learning_rate=0.00005\n",
    ") as scheduler:\n",
    "    \n",
    "    for epoch in trange(params.epoch_start, params.num_epochs + 1, leave=False):\n",
    "        \n",
    "        with tqdm(total=len(train_dataloader) // params.batch_size, position=0, leave=False) as progress, \\\n",
    "            LossAccumulator(optimizer, 4) as lossAccumulator:\n",
    "            model.train()\n",
    "            \n",
    "            progress.set_description('epoch %d, lr %f' % (epoch, scheduler.learning_rate))\n",
    "\n",
    "            cumulative_loss = 0\n",
    "            for i, (images, labels) in enumerate(training_dataloader):\n",
    "\n",
    "                images = to_device(images)\n",
    "                labels = to_device(labels)\n",
    "\n",
    "                output = model.forward(images)\n",
    "                loss = criterion(output, labels)\n",
    "                cumulative_loss += loss.item()\n",
    "                \n",
    "                info = f\"Epoch {epoch}, lr {scheduler.learning_rate}, i {i}, loss {loss.item()}\"\n",
    "                if np.isnan(loss.item()):\n",
    "                    log.warning(info)\n",
    "                    break\n",
    "                else:\n",
    "                    log.info(info)\n",
    "\n",
    "                loss.backward()\n",
    "\n",
    "                progress.set_postfix(loss='%.6f' % loss.item())\n",
    "                progress.update()\n",
    "\n",
    "                next(lossAccumulator)\n",
    "\n",
    "            if epoch % params.checkpoint_step == 0:\n",
    "                model.save(os.path.join(params.save_model_path, f'latest_{params.model_suffix}.pt'))\n",
    "\n",
    "            mean_loss = cumulative_loss / len(train_dataloader)\n",
    "            log.info(f\"Epoch {epoch}, mean loss {mean_loss}\")\n",
    "\n",
    "            if mean_loss < best_mean_loss:\n",
    "                best_mean_loss = mean_loss\n",
    "                model.save(os.path.join(params.save_model_path, f'min_loss_{params.model_suffix}.pt'))\n",
    "\n",
    "            if epoch % params.validation_step == 0:\n",
    "                mIoU, precision, iou = validation(model, val_dataloader)\n",
    "                log.info(f\"Epoch {epoch}, mIoU {mIoU}, precision {precision}\")\n",
    "                if mIoU > best_mIoU:\n",
    "                    best_mIoU = mIoU\n",
    "                    model.save(os.path.join(params.save_model_path, f'best_miou_{params.model_suffix}.pt'))\n",
    "                if precision > best_:\n",
    "                    best_ = precision\n",
    "                    model.save(os.path.join(params.save_model_path, f'best_precision_{params.model_suffix}.pt'))"
   ]
  }
 ],
 "metadata": {
  "kernelspec": {
   "display_name": "Python 3",
   "language": "python",
   "name": "python3"
  },
  "language_info": {
   "codemirror_mode": {
    "name": "ipython",
    "version": 3
   },
   "file_extension": ".py",
   "mimetype": "text/x-python",
   "name": "python",
   "nbconvert_exporter": "python",
   "pygments_lexer": "ipython3",
   "version": "3.7.6"
  }
 },
 "nbformat": 4,
 "nbformat_minor": 4
}
